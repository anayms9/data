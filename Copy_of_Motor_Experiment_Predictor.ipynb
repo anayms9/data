{
  "nbformat": 4,
  "nbformat_minor": 0,
  "metadata": {
    "colab": {
      "name": "Copy of Motor_Experiment_Predictor",
      "version": "0.3.2",
      "provenance": [],
      "collapsed_sections": [],
      "include_colab_link": true
    },
    "kernelspec": {
      "name": "python3",
      "display_name": "Python 3"
    }
  },
  "cells": [
    {
      "cell_type": "markdown",
      "metadata": {
        "id": "view-in-github",
        "colab_type": "text"
      },
      "source": [
        "<a href=\"https://colab.research.google.com/github/anayms9/data/blob/master/Copy_of_Motor_Experiment_Predictor.ipynb\" target=\"_parent\"><img src=\"https://colab.research.google.com/assets/colab-badge.svg\" alt=\"Open In Colab\"/></a>"
      ]
    },
    {
      "cell_type": "markdown",
      "metadata": {
        "id": "p1_Im2nYDH_l",
        "colab_type": "text"
      },
      "source": [
        "# Do not edit first code cell"
      ]
    },
    {
      "cell_type": "code",
      "metadata": {
        "id": "C6sQo7qoCw6y",
        "colab_type": "code",
        "outputId": "078127d7-4d8c-4185-9155-126e440198ec",
        "colab": {
          "base_uri": "https://localhost:8080/",
          "height": 716
        }
      },
      "source": [
        "# -*- coding: utf-8 -*-\n",
        "\"\"\"\n",
        "Created on Sun Apr  7 12:44:48 2019\n",
        "\n",
        "@author: Anay\n",
        "\"\"\"\n",
        "\n",
        "import numpy as np\n",
        "from matplotlib import pyplot as plt\n",
        "\n",
        "pi = np.pi\n",
        "density = {'Al': 2700, 'Steel': 7800, 'Poly': 2000}\n",
        "dimensions = {'motor_shaft':{'material':'Steel', 'dia_out': 0.012,'length': 0.130}, \n",
        "              'test_shaft':{'material':'Steel', 'dia_out': 0.020,'length': 0.194},\n",
        "              'shaft_to_inertia':{'material':'Steel', 'dia_out': 0.0566, 'dia_in': 0.020, 'length': 0.0225}, \n",
        "              'test_wheel':{'material':'Steel', 'dia_out': 0.200, 'dia_in': 0.020, 'length': 0.018},\n",
        "              'brake_pad':{'material':'Poly', 'dia_out': 0.200, 'dia_in': 0.154, 'length': 0.020}\n",
        "              }\n",
        "COF = {'Poly': 0.35}\n",
        "\n",
        "\n",
        "components = [i for i in dimensions.keys()]\n",
        "materials = [i for i in density.keys()]\n",
        "KV_rating = 290\n",
        "Kv = 1/(290*2*pi/60)\n",
        "Kt = Kv\n",
        "\n",
        "def inertia_estimator(dict):\n",
        "  #dict refers to component dictionary\n",
        "    if 'dia_out' in dict.keys():\n",
        "        d2 = dict['dia_out']\n",
        "        l = dict['length']\n",
        "        d1 = 0\n",
        "        if 'dia_in' in dict.keys():\n",
        "          d1 = dict['dia_in']\n",
        "        mass = density[dict['material']]*(pi/4)*(np.power(d2,2)-np.power(d1,2))*l\n",
        "        inertia = mass*(np.power(d2/2,2) + np.power(d1/2,2))/2\n",
        "    return mass, inertia\n",
        "\n",
        "inertias = {}\n",
        "for d in range(len(dimensions)):\n",
        "    m,i = inertia_estimator(dimensions[components[d]])\n",
        "    inertias[components[d]] = {'mass':m, 'inertia':i}    \n",
        "print(inertias)\n",
        "\n",
        "#Brake pad is modelled as a section of an annular\n",
        "#Evalluating brake torque\n",
        "N = 100\n",
        "r2_brake = dimensions['brake_pad']['dia_out']/2\n",
        "r1_brake = dimensions['brake_pad']['dia_in']/2\n",
        "mu = COF[dimensions['brake_pad']['material']]\n",
        "brakeTorque = mu*N*(2/3)*(r2_brake**2 + r2_brake*r1_brake + r1_brake**2)/(r2_brake + r1_brake)\n",
        "print('Braking torque applied is- '+str(brakeTorque)+'N-m')\n",
        "\n",
        "#battery voltage & current\n",
        "Vb = 50\n",
        "Ib = 240\n",
        "\n",
        "maxRPM = KV_rating*Vb\n",
        "print('No load speed is- '+str(maxRPM)+'RPM')\n",
        "\n",
        "motorTorque = Kv*Ib\n",
        "print('Max torque that motor can provide is- '+str(motorTorque)+'N-m')\n",
        "\n",
        "totalInertia = sum([inertias[c]['inertia'] for c in components])\n",
        "print('Total rotational inertia of setup is- '+str(totalInertia)+'kg-m^2')\n",
        "\n",
        "#Bearing friction coefficient\n",
        "B = 0.001\n",
        "omega = [0]\n",
        "alpha = [0]\n",
        "time = [0]\n",
        "dt = 0.01\n",
        "eps = 1/np.power(10,3)\n",
        "\n",
        "if motorTorque <= brakeTorque:\n",
        "    Nreqd  = mu*(2/3)*(r2_brake**2 + r2_brake*r1_brake + r1_brake**2)/(r2_brake + r1_brake)\n",
        "    Nreqd = motorTorque/Nreqd\n",
        "    print('Reduce brake normal force to any value below- '+str(Nreqd)+'N')\n",
        "else:\n",
        "    #solving differential equation\n",
        "    if B < 0.0001:\n",
        "        print('Negligible bearing friction. Ignored!')\n",
        "        while omega[-1] < maxRPM*2*pi/60:\n",
        "            alpha.append((motorTorque-brakeTorque)/totalInertia)\n",
        "            omega.append(omega[-1]+alpha[-1]*dt)\n",
        "            time.append(time[-1]+dt)\n",
        "    else:\n",
        "        while omega[-1] < maxRPM*2*pi/60:\n",
        "            if ((motorTorque-brakeTorque)/totalInertia) - (B*omega[-1]/totalInertia) > eps :\n",
        "                alpha.append( ((motorTorque-brakeTorque)/totalInertia) - (B*omega[-1]/totalInertia) )\n",
        "                omega.append(omega[-1]+alpha[-1]*dt)\n",
        "                time.append(time[-1]+dt)\n",
        "\n",
        "omega = np.array(omega)\n",
        "omega = omega*60/(2*pi)\n",
        "alpha = np.array(alpha)\n",
        "time = np.array(time)\n",
        "    \n",
        "\n",
        "plt.plot(time,omega,'b')\n",
        "plt.xlabel('Time(s)')\n",
        "plt.ylabel('Angular Speed(RPM)')\n",
        "plt.grid(True)\n",
        "plt.show()\n",
        "plt.close()\n",
        "\n",
        "plt.plot(time,alpha,'r')\n",
        "plt.xlabel('Time(s)')\n",
        "plt.ylabel('Angular Acceleration(rad/s^2)')\n",
        "plt.grid('True')\n",
        "plt.show()\n",
        "plt.close()\n",
        "\n",
        "\n",
        "\n",
        "\n"
      ],
      "execution_count": 0,
      "outputs": [
        {
          "output_type": "stream",
          "text": [
            "{'motor_shaft': {'mass': 0.11468069822664181, 'inertia': 2.0642525680795527e-06}, 'test_shaft': {'mass': 0.1645566231950334, 'inertia': 8.22783115975167e-06}, 'shaft_to_inertia': {'mass': 0.1337660856547039, 'inertia': 6.0254264452733105e-05}, 'test_wheel': {'mass': 1.5115458893481934, 'inertia': 0.007633306741208378}, 'brake_pad': {'mass': 0.5115769477105621, 'inertia': 0.004074454600040772}}\n",
            "Braking torque applied is- 3.1149340866290016N-m\n",
            "No load speed is- 14500RPM\n",
            "Max torque that motor can provide is- 7.902866139735493N-m\n",
            "Total rotational inertia of setup is- 0.011778307689429715kg-m^2\n"
          ],
          "name": "stdout"
        },
        {
          "output_type": "display_data",
          "data": {
            "image/png": "[encoded data removed]",
            "text/plain": [
              "<Figure size 432x288 with 1 Axes>"
            ]
          },
          "metadata": {
            "tags": []
          }
        },
        {
          "output_type": "stream",
          "text": [
            "/usr/local/lib/python3.6/dist-packages/matplotlib/cbook/__init__.py:424: MatplotlibDeprecationWarning: \n",
            "Passing one of 'on', 'true', 'off', 'false' as a boolean is deprecated; use an actual boolean (True/False) instead.\n",
            "  warn_deprecated(\"2.2\", \"Passing one of 'on', 'true', 'off', 'false' as a \"\n"
          ],
          "name": "stderr"
        },
        {
          "output_type": "display_data",
          "data": {
            "image/png": "[encoded data removed]",
            "text/plain": [
              "<Figure size 432x288 with 1 Axes>"
            ]
          },
          "metadata": {
            "tags": []
          }
        }
      ]
    },
    {
      "cell_type": "code",
      "metadata": {
        "id": "I0YDMtO6t-rJ",
        "colab_type": "code",
        "outputId": "c2a42c13-2810-4be7-ff68-2e2de3008e8a",
        "colab": {
          "base_uri": "https://localhost:8080/",
          "height": 54
        }
      },
      "source": [
        "import numpy as np\n",
        "from matplotlib import pyplot as plt\n",
        "\n",
        "pi = np.pi\n",
        "density = {'Al': 2700, 'Steel': 7800, 'Poly': 2000}\n",
        "dimensions = {'motor_shaft':{'material':'Steel', 'dia_out': 0.012,'length': 0.130}, \n",
        "              'test_shaft':{'material':'Steel', 'dia_out': 0.020,'length': 0.194},\n",
        "              'shaft_to_inertia':{'material':'Steel', 'dia_out': 0.0566, 'dia_in': 0.020, 'length': 0.0225}, \n",
        "              'test_wheel':{'material':'Steel', 'dia_out': 0.200, 'dia_in': 0.020, 'length': 0.018},\n",
        "              'brake_pad':{'material':'Poly', 'dia_out': 0.200, 'dia_in': 0.154, 'length': 0.020}\n",
        "              }\n",
        "COF = {'Poly': 0.35}\n",
        "\n",
        "\n",
        "components = [i for i in dimensions.keys()]\n",
        "materials = [i for i in density.keys()]\n",
        "KV_rating = 290\n",
        "Kv = 1/(290*2*pi/60)\n",
        "Kt = Kv\n",
        "\n",
        "def inertia_estimator(dict):\n",
        "  #dict refers to component dictionary\n",
        "    if 'dia_out' in dict.keys():\n",
        "        d2 = dict['dia_out']\n",
        "        l = dict['length']\n",
        "        d1 = 0\n",
        "        if 'dia_in' in dict.keys():\n",
        "          d1 = dict['dia_in']\n",
        "        mass = density[dict['material']]*(pi/4)*(np.power(d2,2)-np.power(d1,2))*l\n",
        "        inertia = mass*(np.power(d2/2,2) + np.power(d1/2,2))/2\n",
        "    return mass, inertia\n",
        "\n",
        "inertias = {}\n",
        "for d in range(len(dimensions)):\n",
        "    m,i = inertia_estimator(dimensions[components[d]])\n",
        "    inertias[components[d]] = {'mass':m, 'inertia':i}    \n",
        "print(inertias)\n"
      ],
      "execution_count": 0,
      "outputs": [
        {
          "output_type": "stream",
          "text": [
            "{'motor_shaft': {'mass': 0.11468069822664181, 'inertia': 2.0642525680795527e-06}, 'test_shaft': {'mass': 0.4753858003412076, 'inertia': 2.376929001706038e-05}, 'shaft_to_inertia': {'mass': 0.3864353585580335, 'inertia': 0.0001740678750856734}, 'test_wheel': {'mass': 4.3666881247836695, 'inertia': 0.022051775030157535}, 'brake_pad': {'mass': 0.5115769477105621, 'inertia': 0.004074454600040772}}\n"
          ],
          "name": "stdout"
        }
      ]
    },
    {
      "cell_type": "code",
      "metadata": {
        "id": "UZHubZWyJsVO",
        "colab_type": "code",
        "colab": {}
      },
      "source": [
        ""
      ],
      "execution_count": 0,
      "outputs": []
    }
  ]
}